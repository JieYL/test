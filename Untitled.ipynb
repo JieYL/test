{
 "cells": [
  {
   "cell_type": "code",
   "execution_count": 28,
   "metadata": {},
   "outputs": [],
   "source": [
    "import sys\n",
    "from PIL import Image\n",
    "from PIL import ImageFont\n",
    "from PIL import ImageDraw \n",
    "\n",
    "path1 = '.\\\\alg_test\\\\test_data\\\\output\\\\affine_result\\\\affine_0.jpg'\n",
    "path2 = '.\\\\alg_test\\\\test_data\\\\output\\\\affine_result\\\\affine_1.jpg'\n",
    "\n",
    "rootAffine = ''\n",
    "rootTest = ''\n",
    "ext = '.jpg'\n",
    "\n",
    "class match:\n",
    "    def __init__(self, userId, tmplIdx, probeIdx, rawScore, score):\n",
    "        self.userId = userId \n",
    "        self.tmplIdx = tmplIdx\n",
    "        self.probeIdx = probeIdx\n",
    "        self.rawScore = rawScore\n",
    "        self.score = score\n",
    "        self.accept = score>2000\n",
    "    def getAffinePath(self):\n",
    "        tmplPath = '\\\\'.join([rootAffine, 'low', self.userId, self.userId+'_'+self.tmplIdx+ext])\n",
    "        probePath = '\\\\'.join([rootAffine, 'low', self.userId, self.userId+'_'+self.tmplIdx+ext])\n",
    "    def getTestPath(self):\n",
    "        tmplPath = '\\\\'.join([rootTest, 'low', self.userId, self.userId+'_'+self.probeIdx+ext])\n",
    "        \n",
    "class pair:\n",
    "    def __init__(self, match1, match2):\n",
    "        self.match1 = match1\n",
    "        self.match2 = match2\n",
    "    \n",
    "    def combineAffineResult(self):\n",
    "        \n",
    "\n",
    "        \n",
    "def mergeImgs(path1, path2, ):\n",
    "    images = [Image.open(x) for x in [path1, path2]]\n",
    "    widths, heights = zip(*(i.size for i in images))\n",
    "\n",
    "    total_width = sum(widths)\n",
    "    max_height = max(heights)\n",
    "\n",
    "    new_im = Image.new('RGB', (total_width, max_height+50))\n",
    "    draw = ImageDraw.Draw(new_im)\n",
    "\n",
    "#     font = ImageFont.truetype(\"sans-serif.ttf\", 16)\n",
    "    font = ImageFont.truetype(\"arial.ttf\", 16)\n",
    "\n",
    "    x_offset = 0\n",
    "    for im in images:\n",
    "        new_im.paste(im, (x_offset,0))\n",
    "        draw.rectangle([(im.size[0], max_height), (im.size[0]*2, max_height+50)], fill =\"red\", outline =\"red\") \n",
    "        draw.text((x_offset, max_height),\"ID:\",(255,255,255), font=font)\n",
    "        draw.text((x_offset, max_height+16),\"Sample Text\",(255,255,255), font=font)\n",
    "        draw.text((x_offset, max_height+32),\"Text\",(255,255,255), font=font)\n",
    "        x_offset += im.size[0]\n",
    "    new_im.save('test.jpg')\n",
    "    new_im.show()\n",
    "\n",
    "mergeImgs(path1, path2)"
   ]
  },
  {
   "cell_type": "code",
   "execution_count": 17,
   "metadata": {},
   "outputs": [],
   "source": []
  },
  {
   "cell_type": "code",
   "execution_count": null,
   "metadata": {},
   "outputs": [],
   "source": []
  },
  {
   "cell_type": "code",
   "execution_count": null,
   "metadata": {},
   "outputs": [],
   "source": []
  }
 ],
 "metadata": {
  "kernelspec": {
   "display_name": "Python 3",
   "language": "python",
   "name": "python3"
  },
  "language_info": {
   "codemirror_mode": {
    "name": "ipython",
    "version": 3
   },
   "file_extension": ".py",
   "mimetype": "text/x-python",
   "name": "python",
   "nbconvert_exporter": "python",
   "pygments_lexer": "ipython3",
   "version": "3.6.5"
  }
 },
 "nbformat": 4,
 "nbformat_minor": 2
}
